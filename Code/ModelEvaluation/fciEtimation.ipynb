{
 "cells": [
  {
   "cell_type": "code",
   "execution_count": 28,
   "id": "1397d144",
   "metadata": {},
   "outputs": [],
   "source": [
    "import dowhy\n",
    "from dowhy import CausalModel\n",
    "import pandas as pd\n",
    "import numpy as np\n",
    "import matplotlib.pyplot as plt\n",
    "import seaborn as sns\n"
   ]
  },
  {
   "cell_type": "code",
   "execution_count": 29,
   "id": "5e6465aa",
   "metadata": {},
   "outputs": [],
   "source": [
    "data=pd.read_csv('Final_Model_data.csv')"
   ]
  },
  {
   "cell_type": "code",
   "execution_count": 30,
   "id": "3212c0fb",
   "metadata": {},
   "outputs": [
    {
     "data": {
      "text/html": [
       "<div>\n",
       "<style scoped>\n",
       "    .dataframe tbody tr th:only-of-type {\n",
       "        vertical-align: middle;\n",
       "    }\n",
       "\n",
       "    .dataframe tbody tr th {\n",
       "        vertical-align: top;\n",
       "    }\n",
       "\n",
       "    .dataframe thead th {\n",
       "        text-align: right;\n",
       "    }\n",
       "</style>\n",
       "<table border=\"1\" class=\"dataframe\">\n",
       "  <thead>\n",
       "    <tr style=\"text-align: right;\">\n",
       "      <th></th>\n",
       "      <th>DrugUse</th>\n",
       "      <th>MentalHealth</th>\n",
       "      <th>Age</th>\n",
       "      <th>EmploymentStatus</th>\n",
       "      <th>Sex</th>\n",
       "      <th>IncomeLevel</th>\n",
       "      <th>UrbanRural</th>\n",
       "      <th>EducationLevel</th>\n",
       "    </tr>\n",
       "  </thead>\n",
       "  <tbody>\n",
       "    <tr>\n",
       "      <th>0</th>\n",
       "      <td>1</td>\n",
       "      <td>0</td>\n",
       "      <td>1</td>\n",
       "      <td>1</td>\n",
       "      <td>1</td>\n",
       "      <td>1</td>\n",
       "      <td>0</td>\n",
       "      <td>1</td>\n",
       "    </tr>\n",
       "    <tr>\n",
       "      <th>1</th>\n",
       "      <td>1</td>\n",
       "      <td>0</td>\n",
       "      <td>1</td>\n",
       "      <td>1</td>\n",
       "      <td>1</td>\n",
       "      <td>1</td>\n",
       "      <td>1</td>\n",
       "      <td>1</td>\n",
       "    </tr>\n",
       "    <tr>\n",
       "      <th>2</th>\n",
       "      <td>0</td>\n",
       "      <td>0</td>\n",
       "      <td>1</td>\n",
       "      <td>1</td>\n",
       "      <td>0</td>\n",
       "      <td>1</td>\n",
       "      <td>1</td>\n",
       "      <td>1</td>\n",
       "    </tr>\n",
       "    <tr>\n",
       "      <th>3</th>\n",
       "      <td>0</td>\n",
       "      <td>0</td>\n",
       "      <td>1</td>\n",
       "      <td>1</td>\n",
       "      <td>1</td>\n",
       "      <td>1</td>\n",
       "      <td>1</td>\n",
       "      <td>1</td>\n",
       "    </tr>\n",
       "    <tr>\n",
       "      <th>4</th>\n",
       "      <td>0</td>\n",
       "      <td>0</td>\n",
       "      <td>1</td>\n",
       "      <td>0</td>\n",
       "      <td>0</td>\n",
       "      <td>1</td>\n",
       "      <td>1</td>\n",
       "      <td>1</td>\n",
       "    </tr>\n",
       "  </tbody>\n",
       "</table>\n",
       "</div>"
      ],
      "text/plain": [
       "   DrugUse  MentalHealth  Age  EmploymentStatus  Sex  IncomeLevel  UrbanRural  \\\n",
       "0        1             0    1                 1    1            1           0   \n",
       "1        1             0    1                 1    1            1           1   \n",
       "2        0             0    1                 1    0            1           1   \n",
       "3        0             0    1                 1    1            1           1   \n",
       "4        0             0    1                 0    0            1           1   \n",
       "\n",
       "   EducationLevel  \n",
       "0               1  \n",
       "1               1  \n",
       "2               1  \n",
       "3               1  \n",
       "4               1  "
      ]
     },
     "execution_count": 30,
     "metadata": {},
     "output_type": "execute_result"
    }
   ],
   "source": [
    "data.head()"
   ]
  },
  {
   "cell_type": "code",
   "execution_count": 56,
   "id": "f9a7f797",
   "metadata": {},
   "outputs": [],
   "source": [
    "causal_graph_notears_threshold002 = \"\"\"digraph {\n",
    "DrugUse -> MentalHealth  [origin=learned, weight=\"0.32232902714064215\"];\n",
    "Age -> MentalHealth  [origin=learned, weight=\"0.3732297788075115\"];\n",
    "Age -> EmploymentStatus  [origin=learned, weight=\"0.2997028728323968\"];\n",
    "Age -> UrbanRural  [origin=learned, weight=\"0.6184971219685687\"];\n",
    "Age -> EducationLevel  [origin=learned, weight=\"0.350334265225816\"];\n",
    "Sex -> UrbanRural  [origin=learned, weight=\"0.2816387658266336\"];\n",
    "IncomeLevel -> EmploymentStatus  [origin=learned, weight=\"0.26726254829948587\"];\n",
    "UrbanRural -> EducationLevel  [origin=learned, weight=\"0.5252865706999018\"];\n",
    "EducationLevel -> EmploymentStatus  [origin=learned, weight=\"0.22031921136856628\"];\n",
    "EducationLevel -> IncomeLevel  [origin=learned, weight=\"0.5685713787866356\"]\n",
    "}\"\"\""
   ]
  },
  {
   "cell_type": "code",
   "execution_count": 182,
   "id": "caa8138f",
   "metadata": {},
   "outputs": [],
   "source": [
    "causal_graph_fci1 = \"\"\"digraph {\n",
    "DrugUse->IncomeLevel;\n",
    "Age->EmploymentStatus;\n",
    "Age->EducationLevel;\n",
    "Age->IncomeLevel;\n",
    "Age->MentalHealth;\n",
    "Sex->EmploymentStatus;\n",
    "Sex->DrugUse;\n",
    "Sex->IncomeLevel;\n",
    "Sex->EducationLevel;\n",
    "UrbanRural->DrugUse;\n",
    "UrbanRural->IncomeLevel;\n",
    "UrbanRural->EducationLevel;\n",
    "EmploymentStatus->MentalHealth;\n",
    "EmploymentStatus->EducationLevel;\n",
    "EmploymentStatus->IncomeLevel;\n",
    "IncomeLevel->EducationLevel;\n",
    "DrugUse->MentalHealth;\n",
    "MentalHealth->IncomeLevel;\n",
    "MentalHealth->EducationLevel;\n",
    "}\"\"\""
   ]
  },
  {
   "cell_type": "code",
   "execution_count": 198,
   "id": "4ea5fa66",
   "metadata": {},
   "outputs": [],
   "source": [
    "causal_graph_notears = \"\"\"digraph{\n",
    "DrugUse;\n",
    "MentalHealth;\n",
    "Age;\n",
    "EmploymentStatus;\n",
    "Sex;\n",
    "IncomeLevel;\n",
    "UrbanRural;\n",
    "EducationLevel;\n",
    "DrugUse -> MentalHealth  [origin=learned, weight=\"0.3223161895355318\"];\n",
    "MentalHealth -> EducationLevel  [origin=learned, weight=\"0.19662852917041942\"];\n",
    "Age -> DrugUse  [origin=learned, weight=\"0.1707798540373034\"];\n",
    "Age -> MentalHealth  [origin=learned, weight=\"0.37382250466934147\"];\n",
    "Age -> EmploymentStatus  [origin=learned, weight=\"0.29935199319812944\"];\n",
    "Age -> EducationLevel  [origin=learned, weight=\"0.6744554452622066\"];\n",
    "Sex -> DrugUse  [origin=learned, weight=\"0.10666058510050247\"];\n",
    "Sex -> EducationLevel  [origin=learned, weight=\"0.31959120279983033\"];\n",
    "IncomeLevel -> EmploymentStatus  [origin=learned, weight=\"0.265652788154205\"];\n",
    "UrbanRural -> IncomeLevel  [origin=learned, weight=\"0.18853105626858785\"];\n",
    "EducationLevel -> EmploymentStatus  [origin=learned, weight=\"0.22482246214248297\"];\n",
    "EducationLevel -> IncomeLevel  [origin=learned, weight=\"0.5704509645014354\"];\n",
    "EducationLevel -> UrbanRural  [origin=learned, weight=\"0.7870140585730242\"];\n",
    "}\"\"\""
   ]
  },
  {
   "cell_type": "code",
   "execution_count": 199,
   "id": "0c587c50",
   "metadata": {},
   "outputs": [],
   "source": [
    "causal_graph_fci2 = \"\"\"digraph {\n",
    "DrugUse->IncomeLevel;\n",
    "Age->EmploymentStatus;\n",
    "Age->EducationLevel;\n",
    "Age->IncomeLevel;\n",
    "Age->MentalHealth;\n",
    "Sex->EmploymentStatus;\n",
    "Sex->DrugUse;\n",
    "Sex->IncomeLevel;\n",
    "Sex->EducationLevel;\n",
    "UrbanRural->DrugUse;\n",
    "UrbanRural->IncomeLevel;\n",
    "UrbanRural->EducationLevel;\n",
    "EmploymentStatus->MentalHealth;\n",
    "EmploymentStatus->EducationLevel;\n",
    "EmploymentStatus->IncomeLevel;\n",
    "IncomeLevel->EducationLevel;\n",
    "MentalHealth -> DrugUse;\n",
    "MentalHealth->IncomeLevel;\n",
    "MentalHealth->EducationLevel;\n",
    "}\"\"\""
   ]
  },
  {
   "cell_type": "code",
   "execution_count": 208,
   "id": "5f249c89",
   "metadata": {},
   "outputs": [],
   "source": [
    "model=CausalModel(\n",
    "        data = data,\n",
    "        graph=causal_graph_fci2,\n",
    "        treatment=\"MentalHealth\",\n",
    "        outcome=\"DrugUse\")"
   ]
  },
  {
   "cell_type": "code",
   "execution_count": 209,
   "id": "cfcefe1b",
   "metadata": {
    "scrolled": true
   },
   "outputs": [
    {
     "data": {
      "image/png": "[encoded data removed]",
      "text/plain": [
       "<Figure size 576x432 with 1 Axes>"
      ]
     },
     "metadata": {},
     "output_type": "display_data"
    }
   ],
   "source": [
    "model.view_model()"
   ]
  },
  {
   "cell_type": "code",
   "execution_count": 210,
   "id": "3bd45531",
   "metadata": {},
   "outputs": [
    {
     "name": "stdout",
     "output_type": "stream",
     "text": [
      "Estimand type: nonparametric-ate\n",
      "\n",
      "### Estimand : 1\n",
      "Estimand name: backdoor\n",
      "Estimand expression:\n",
      "       d                       \n",
      "───────────────(E[DrugUse|Sex])\n",
      "d[MentalHealth]                \n",
      "Estimand assumption 1, Unconfoundedness: If U→{MentalHealth} and U→DrugUse then P(DrugUse|MentalHealth,Sex,U) = P(DrugUse|MentalHealth,Sex)\n",
      "\n",
      "### Estimand : 2\n",
      "Estimand name: iv\n",
      "Estimand expression:\n",
      " ⎡                                        -1⎤\n",
      " ⎢  d             ⎛  d                   ⎞  ⎥\n",
      "E⎢──────(DrugUse)⋅⎜──────([MentalHealth])⎟  ⎥\n",
      " ⎣d[Age]          ⎝d[Age]                ⎠  ⎦\n",
      "Estimand assumption 1, As-if-random: If U→→DrugUse then ¬(U →→{Age})\n",
      "Estimand assumption 2, Exclusion: If we remove {Age}→{MentalHealth}, then ¬({Age}→DrugUse)\n",
      "\n",
      "### Estimand : 3\n",
      "Estimand name: frontdoor\n",
      "No such variable(s) found!\n",
      "\n"
     ]
    }
   ],
   "source": [
    "identified_estimand = model.identify_effect(proceed_when_unidentifiable=True)\n",
    "print(identified_estimand)"
   ]
  },
  {
   "cell_type": "code",
   "execution_count": 203,
   "id": "81a1c442",
   "metadata": {},
   "outputs": [
    {
     "name": "stdout",
     "output_type": "stream",
     "text": [
      "linear_regression\n",
      "{'control_value': 0, 'treatment_value': 1, 'test_significance': None, 'evaluate_effect_strength': False, 'confidence_intervals': False, 'target_units': 'att', 'effect_modifiers': []}\n",
      "*** Causal Estimate ***\n",
      "\n",
      "## Identified estimand\n",
      "Estimand type: nonparametric-ate\n",
      "\n",
      "### Estimand : 1\n",
      "Estimand name: backdoor\n",
      "Estimand expression:\n",
      "    d                          \n",
      "──────────(E[MentalHealth|Age])\n",
      "d[DrugUse]                     \n",
      "Estimand assumption 1, Unconfoundedness: If U→{DrugUse} and U→MentalHealth then P(MentalHealth|DrugUse,Age,U) = P(MentalHealth|DrugUse,Age)\n",
      "\n",
      "## Realized estimand\n",
      "b: MentalHealth~DrugUse+Age\n",
      "Target units: att\n",
      "\n",
      "## Estimate\n",
      "Mean value: 0.27413737716259806\n",
      "\n",
      "Causal Estimate is 0.27413737716259806\n"
     ]
    }
   ],
   "source": [
    "causal_estimate_att = model.estimate_effect(identified_estimand,\n",
    "        method_name=\"backdoor.linear_regression\",\n",
    "        target_units = \"att\")\n",
    "print(causal_estimate_att)\n",
    "print(\"Causal Estimate is \" + str(causal_estimate_att.value))"
   ]
  },
  {
   "cell_type": "code",
   "execution_count": 195,
   "id": "490798f2",
   "metadata": {},
   "outputs": [
    {
     "name": "stdout",
     "output_type": "stream",
     "text": [
      "{'control_value': 0, 'treatment_value': 1, 'test_significance': False, 'evaluate_effect_strength': False, 'confidence_intervals': False, 'target_units': 'att', 'effect_modifiers': ['UrbanRural']}\n",
      "{'control_value': 0, 'treatment_value': 1, 'test_significance': False, 'evaluate_effect_strength': False, 'confidence_intervals': False, 'target_units': 'att', 'effect_modifiers': ['UrbanRural']}\n",
      "{'control_value': 0, 'treatment_value': 1, 'test_significance': False, 'evaluate_effect_strength': False, 'confidence_intervals': False, 'target_units': 'att', 'effect_modifiers': ['UrbanRural']}\n",
      "{'control_value': 0, 'treatment_value': 1, 'test_significance': False, 'evaluate_effect_strength': False, 'confidence_intervals': False, 'target_units': 'att', 'effect_modifiers': ['UrbanRural']}\n",
      "{'control_value': 0, 'treatment_value': 1, 'test_significance': False, 'evaluate_effect_strength': False, 'confidence_intervals': False, 'target_units': 'att', 'effect_modifiers': ['UrbanRural']}\n",
      "{'control_value': 0, 'treatment_value': 1, 'test_significance': False, 'evaluate_effect_strength': False, 'confidence_intervals': False, 'target_units': 'att', 'effect_modifiers': ['UrbanRural']}\n",
      "{'control_value': 0, 'treatment_value': 1, 'test_significance': False, 'evaluate_effect_strength': False, 'confidence_intervals': False, 'target_units': 'att', 'effect_modifiers': ['UrbanRural']}\n",
      "{'control_value': 0, 'treatment_value': 1, 'test_significance': False, 'evaluate_effect_strength': False, 'confidence_intervals': False, 'target_units': 'att', 'effect_modifiers': ['UrbanRural']}\n",
      "{'control_value': 0, 'treatment_value': 1, 'test_significance': False, 'evaluate_effect_strength': False, 'confidence_intervals': False, 'target_units': 'att', 'effect_modifiers': ['UrbanRural']}\n",
      "{'control_value': 0, 'treatment_value': 1, 'test_significance': False, 'evaluate_effect_strength': False, 'confidence_intervals': False, 'target_units': 'att', 'effect_modifiers': ['UrbanRural']}\n",
      "{'control_value': 0, 'treatment_value': 1, 'test_significance': False, 'evaluate_effect_strength': False, 'confidence_intervals': False, 'target_units': 'att', 'effect_modifiers': ['UrbanRural']}\n",
      "{'control_value': 0, 'treatment_value': 1, 'test_significance': False, 'evaluate_effect_strength': False, 'confidence_intervals': False, 'target_units': 'att', 'effect_modifiers': ['UrbanRural']}\n",
      "{'control_value': 0, 'treatment_value': 1, 'test_significance': False, 'evaluate_effect_strength': False, 'confidence_intervals': False, 'target_units': 'att', 'effect_modifiers': ['UrbanRural']}\n",
      "{'control_value': 0, 'treatment_value': 1, 'test_significance': False, 'evaluate_effect_strength': False, 'confidence_intervals': False, 'target_units': 'att', 'effect_modifiers': ['UrbanRural']}\n",
      "{'control_value': 0, 'treatment_value': 1, 'test_significance': False, 'evaluate_effect_strength': False, 'confidence_intervals': False, 'target_units': 'att', 'effect_modifiers': ['UrbanRural']}\n",
      "{'control_value': 0, 'treatment_value': 1, 'test_significance': False, 'evaluate_effect_strength': False, 'confidence_intervals': False, 'target_units': 'att', 'effect_modifiers': ['UrbanRural']}\n",
      "{'control_value': 0, 'treatment_value': 1, 'test_significance': False, 'evaluate_effect_strength': False, 'confidence_intervals': False, 'target_units': 'att', 'effect_modifiers': ['UrbanRural']}\n",
      "{'control_value': 0, 'treatment_value': 1, 'test_significance': False, 'evaluate_effect_strength': False, 'confidence_intervals': False, 'target_units': 'att', 'effect_modifiers': ['UrbanRural']}\n",
      "{'control_value': 0, 'treatment_value': 1, 'test_significance': False, 'evaluate_effect_strength': False, 'confidence_intervals': False, 'target_units': 'att', 'effect_modifiers': ['UrbanRural']}\n",
      "{'control_value': 0, 'treatment_value': 1, 'test_significance': False, 'evaluate_effect_strength': False, 'confidence_intervals': False, 'target_units': 'att', 'effect_modifiers': ['UrbanRural']}\n"
     ]
    }
   ],
   "source": [
    "refutation = model.refute_estimate(identified_estimand, \n",
    "                                   causal_estimate_att,\n",
    "                                   method_name=\"placebo_treatment_refuter\",\n",
    "                                   placebo_type=\"permute\", num_simulations=20)"
   ]
  },
  {
   "cell_type": "code",
   "execution_count": 196,
   "id": "6af33c4a",
   "metadata": {},
   "outputs": [
    {
     "name": "stdout",
     "output_type": "stream",
     "text": [
      "Refute: Use a Placebo Treatment\n",
      "Estimated effect:0.21054064455342553\n",
      "New effect:0.0008729807908775574\n",
      "p value:0.42882667366321336\n",
      "\n"
     ]
    }
   ],
   "source": [
    "print(refutation)"
   ]
  },
  {
   "cell_type": "code",
   "execution_count": 197,
   "id": "69719fce",
   "metadata": {},
   "outputs": [
    {
     "name": "stdout",
     "output_type": "stream",
     "text": [
      "{'control_value': 0, 'treatment_value': 1, 'test_significance': False, 'evaluate_effect_strength': False, 'confidence_intervals': False, 'target_units': 'att', 'effect_modifiers': ['UrbanRural']}\n",
      "{'control_value': 0, 'treatment_value': 1, 'test_significance': False, 'evaluate_effect_strength': False, 'confidence_intervals': False, 'target_units': 'att', 'effect_modifiers': ['UrbanRural']}\n",
      "{'control_value': 0, 'treatment_value': 1, 'test_significance': False, 'evaluate_effect_strength': False, 'confidence_intervals': False, 'target_units': 'att', 'effect_modifiers': ['UrbanRural']}\n",
      "{'control_value': 0, 'treatment_value': 1, 'test_significance': False, 'evaluate_effect_strength': False, 'confidence_intervals': False, 'target_units': 'att', 'effect_modifiers': ['UrbanRural']}\n",
      "{'control_value': 0, 'treatment_value': 1, 'test_significance': False, 'evaluate_effect_strength': False, 'confidence_intervals': False, 'target_units': 'att', 'effect_modifiers': ['UrbanRural']}\n",
      "{'control_value': 0, 'treatment_value': 1, 'test_significance': False, 'evaluate_effect_strength': False, 'confidence_intervals': False, 'target_units': 'att', 'effect_modifiers': ['UrbanRural']}\n",
      "{'control_value': 0, 'treatment_value': 1, 'test_significance': False, 'evaluate_effect_strength': False, 'confidence_intervals': False, 'target_units': 'att', 'effect_modifiers': ['UrbanRural']}\n",
      "{'control_value': 0, 'treatment_value': 1, 'test_significance': False, 'evaluate_effect_strength': False, 'confidence_intervals': False, 'target_units': 'att', 'effect_modifiers': ['UrbanRural']}\n",
      "{'control_value': 0, 'treatment_value': 1, 'test_significance': False, 'evaluate_effect_strength': False, 'confidence_intervals': False, 'target_units': 'att', 'effect_modifiers': ['UrbanRural']}\n",
      "{'control_value': 0, 'treatment_value': 1, 'test_significance': False, 'evaluate_effect_strength': False, 'confidence_intervals': False, 'target_units': 'att', 'effect_modifiers': ['UrbanRural']}\n",
      "{'control_value': 0, 'treatment_value': 1, 'test_significance': False, 'evaluate_effect_strength': False, 'confidence_intervals': False, 'target_units': 'att', 'effect_modifiers': ['UrbanRural']}\n",
      "{'control_value': 0, 'treatment_value': 1, 'test_significance': False, 'evaluate_effect_strength': False, 'confidence_intervals': False, 'target_units': 'att', 'effect_modifiers': ['UrbanRural']}\n",
      "{'control_value': 0, 'treatment_value': 1, 'test_significance': False, 'evaluate_effect_strength': False, 'confidence_intervals': False, 'target_units': 'att', 'effect_modifiers': ['UrbanRural']}\n",
      "{'control_value': 0, 'treatment_value': 1, 'test_significance': False, 'evaluate_effect_strength': False, 'confidence_intervals': False, 'target_units': 'att', 'effect_modifiers': ['UrbanRural']}\n",
      "{'control_value': 0, 'treatment_value': 1, 'test_significance': False, 'evaluate_effect_strength': False, 'confidence_intervals': False, 'target_units': 'att', 'effect_modifiers': ['UrbanRural']}\n",
      "{'control_value': 0, 'treatment_value': 1, 'test_significance': False, 'evaluate_effect_strength': False, 'confidence_intervals': False, 'target_units': 'att', 'effect_modifiers': ['UrbanRural']}\n",
      "{'control_value': 0, 'treatment_value': 1, 'test_significance': False, 'evaluate_effect_strength': False, 'confidence_intervals': False, 'target_units': 'att', 'effect_modifiers': ['UrbanRural']}\n",
      "{'control_value': 0, 'treatment_value': 1, 'test_significance': False, 'evaluate_effect_strength': False, 'confidence_intervals': False, 'target_units': 'att', 'effect_modifiers': ['UrbanRural']}\n",
      "{'control_value': 0, 'treatment_value': 1, 'test_significance': False, 'evaluate_effect_strength': False, 'confidence_intervals': False, 'target_units': 'att', 'effect_modifiers': ['UrbanRural']}\n",
      "{'control_value': 0, 'treatment_value': 1, 'test_significance': False, 'evaluate_effect_strength': False, 'confidence_intervals': False, 'target_units': 'att', 'effect_modifiers': ['UrbanRural']}\n",
      "{'control_value': 0, 'treatment_value': 1, 'test_significance': False, 'evaluate_effect_strength': False, 'confidence_intervals': False, 'target_units': 'att', 'effect_modifiers': ['UrbanRural']}\n",
      "{'control_value': 0, 'treatment_value': 1, 'test_significance': False, 'evaluate_effect_strength': False, 'confidence_intervals': False, 'target_units': 'att', 'effect_modifiers': ['UrbanRural']}\n",
      "{'control_value': 0, 'treatment_value': 1, 'test_significance': False, 'evaluate_effect_strength': False, 'confidence_intervals': False, 'target_units': 'att', 'effect_modifiers': ['UrbanRural']}\n",
      "{'control_value': 0, 'treatment_value': 1, 'test_significance': False, 'evaluate_effect_strength': False, 'confidence_intervals': False, 'target_units': 'att', 'effect_modifiers': ['UrbanRural']}\n",
      "{'control_value': 0, 'treatment_value': 1, 'test_significance': False, 'evaluate_effect_strength': False, 'confidence_intervals': False, 'target_units': 'att', 'effect_modifiers': ['UrbanRural']}\n",
      "{'control_value': 0, 'treatment_value': 1, 'test_significance': False, 'evaluate_effect_strength': False, 'confidence_intervals': False, 'target_units': 'att', 'effect_modifiers': ['UrbanRural']}\n",
      "{'control_value': 0, 'treatment_value': 1, 'test_significance': False, 'evaluate_effect_strength': False, 'confidence_intervals': False, 'target_units': 'att', 'effect_modifiers': ['UrbanRural']}\n",
      "{'control_value': 0, 'treatment_value': 1, 'test_significance': False, 'evaluate_effect_strength': False, 'confidence_intervals': False, 'target_units': 'att', 'effect_modifiers': ['UrbanRural']}\n",
      "{'control_value': 0, 'treatment_value': 1, 'test_significance': False, 'evaluate_effect_strength': False, 'confidence_intervals': False, 'target_units': 'att', 'effect_modifiers': ['UrbanRural']}\n",
      "{'control_value': 0, 'treatment_value': 1, 'test_significance': False, 'evaluate_effect_strength': False, 'confidence_intervals': False, 'target_units': 'att', 'effect_modifiers': ['UrbanRural']}\n",
      "{'control_value': 0, 'treatment_value': 1, 'test_significance': False, 'evaluate_effect_strength': False, 'confidence_intervals': False, 'target_units': 'att', 'effect_modifiers': ['UrbanRural']}\n",
      "{'control_value': 0, 'treatment_value': 1, 'test_significance': False, 'evaluate_effect_strength': False, 'confidence_intervals': False, 'target_units': 'att', 'effect_modifiers': ['UrbanRural']}\n",
      "{'control_value': 0, 'treatment_value': 1, 'test_significance': False, 'evaluate_effect_strength': False, 'confidence_intervals': False, 'target_units': 'att', 'effect_modifiers': ['UrbanRural']}\n",
      "{'control_value': 0, 'treatment_value': 1, 'test_significance': False, 'evaluate_effect_strength': False, 'confidence_intervals': False, 'target_units': 'att', 'effect_modifiers': ['UrbanRural']}\n",
      "{'control_value': 0, 'treatment_value': 1, 'test_significance': False, 'evaluate_effect_strength': False, 'confidence_intervals': False, 'target_units': 'att', 'effect_modifiers': ['UrbanRural']}\n",
      "{'control_value': 0, 'treatment_value': 1, 'test_significance': False, 'evaluate_effect_strength': False, 'confidence_intervals': False, 'target_units': 'att', 'effect_modifiers': ['UrbanRural']}\n",
      "{'control_value': 0, 'treatment_value': 1, 'test_significance': False, 'evaluate_effect_strength': False, 'confidence_intervals': False, 'target_units': 'att', 'effect_modifiers': ['UrbanRural']}\n",
      "{'control_value': 0, 'treatment_value': 1, 'test_significance': False, 'evaluate_effect_strength': False, 'confidence_intervals': False, 'target_units': 'att', 'effect_modifiers': ['UrbanRural']}\n",
      "{'control_value': 0, 'treatment_value': 1, 'test_significance': False, 'evaluate_effect_strength': False, 'confidence_intervals': False, 'target_units': 'att', 'effect_modifiers': ['UrbanRural']}\n",
      "{'control_value': 0, 'treatment_value': 1, 'test_significance': False, 'evaluate_effect_strength': False, 'confidence_intervals': False, 'target_units': 'att', 'effect_modifiers': ['UrbanRural']}\n",
      "{'control_value': 0, 'treatment_value': 1, 'test_significance': False, 'evaluate_effect_strength': False, 'confidence_intervals': False, 'target_units': 'att', 'effect_modifiers': ['UrbanRural']}\n",
      "{'control_value': 0, 'treatment_value': 1, 'test_significance': False, 'evaluate_effect_strength': False, 'confidence_intervals': False, 'target_units': 'att', 'effect_modifiers': ['UrbanRural']}\n"
     ]
    },
    {
     "name": "stdout",
     "output_type": "stream",
     "text": [
      "{'control_value': 0, 'treatment_value': 1, 'test_significance': False, 'evaluate_effect_strength': False, 'confidence_intervals': False, 'target_units': 'att', 'effect_modifiers': ['UrbanRural']}\n",
      "{'control_value': 0, 'treatment_value': 1, 'test_significance': False, 'evaluate_effect_strength': False, 'confidence_intervals': False, 'target_units': 'att', 'effect_modifiers': ['UrbanRural']}\n",
      "{'control_value': 0, 'treatment_value': 1, 'test_significance': False, 'evaluate_effect_strength': False, 'confidence_intervals': False, 'target_units': 'att', 'effect_modifiers': ['UrbanRural']}\n",
      "{'control_value': 0, 'treatment_value': 1, 'test_significance': False, 'evaluate_effect_strength': False, 'confidence_intervals': False, 'target_units': 'att', 'effect_modifiers': ['UrbanRural']}\n",
      "{'control_value': 0, 'treatment_value': 1, 'test_significance': False, 'evaluate_effect_strength': False, 'confidence_intervals': False, 'target_units': 'att', 'effect_modifiers': ['UrbanRural']}\n",
      "{'control_value': 0, 'treatment_value': 1, 'test_significance': False, 'evaluate_effect_strength': False, 'confidence_intervals': False, 'target_units': 'att', 'effect_modifiers': ['UrbanRural']}\n",
      "{'control_value': 0, 'treatment_value': 1, 'test_significance': False, 'evaluate_effect_strength': False, 'confidence_intervals': False, 'target_units': 'att', 'effect_modifiers': ['UrbanRural']}\n",
      "{'control_value': 0, 'treatment_value': 1, 'test_significance': False, 'evaluate_effect_strength': False, 'confidence_intervals': False, 'target_units': 'att', 'effect_modifiers': ['UrbanRural']}\n",
      "{'control_value': 0, 'treatment_value': 1, 'test_significance': False, 'evaluate_effect_strength': False, 'confidence_intervals': False, 'target_units': 'att', 'effect_modifiers': ['UrbanRural']}\n",
      "{'control_value': 0, 'treatment_value': 1, 'test_significance': False, 'evaluate_effect_strength': False, 'confidence_intervals': False, 'target_units': 'att', 'effect_modifiers': ['UrbanRural']}\n",
      "{'control_value': 0, 'treatment_value': 1, 'test_significance': False, 'evaluate_effect_strength': False, 'confidence_intervals': False, 'target_units': 'att', 'effect_modifiers': ['UrbanRural']}\n",
      "{'control_value': 0, 'treatment_value': 1, 'test_significance': False, 'evaluate_effect_strength': False, 'confidence_intervals': False, 'target_units': 'att', 'effect_modifiers': ['UrbanRural']}\n",
      "{'control_value': 0, 'treatment_value': 1, 'test_significance': False, 'evaluate_effect_strength': False, 'confidence_intervals': False, 'target_units': 'att', 'effect_modifiers': ['UrbanRural']}\n",
      "{'control_value': 0, 'treatment_value': 1, 'test_significance': False, 'evaluate_effect_strength': False, 'confidence_intervals': False, 'target_units': 'att', 'effect_modifiers': ['UrbanRural']}\n",
      "{'control_value': 0, 'treatment_value': 1, 'test_significance': False, 'evaluate_effect_strength': False, 'confidence_intervals': False, 'target_units': 'att', 'effect_modifiers': ['UrbanRural']}\n",
      "{'control_value': 0, 'treatment_value': 1, 'test_significance': False, 'evaluate_effect_strength': False, 'confidence_intervals': False, 'target_units': 'att', 'effect_modifiers': ['UrbanRural']}\n",
      "{'control_value': 0, 'treatment_value': 1, 'test_significance': False, 'evaluate_effect_strength': False, 'confidence_intervals': False, 'target_units': 'att', 'effect_modifiers': ['UrbanRural']}\n",
      "{'control_value': 0, 'treatment_value': 1, 'test_significance': False, 'evaluate_effect_strength': False, 'confidence_intervals': False, 'target_units': 'att', 'effect_modifiers': ['UrbanRural']}\n",
      "{'control_value': 0, 'treatment_value': 1, 'test_significance': False, 'evaluate_effect_strength': False, 'confidence_intervals': False, 'target_units': 'att', 'effect_modifiers': ['UrbanRural']}\n",
      "{'control_value': 0, 'treatment_value': 1, 'test_significance': False, 'evaluate_effect_strength': False, 'confidence_intervals': False, 'target_units': 'att', 'effect_modifiers': ['UrbanRural']}\n",
      "{'control_value': 0, 'treatment_value': 1, 'test_significance': False, 'evaluate_effect_strength': False, 'confidence_intervals': False, 'target_units': 'att', 'effect_modifiers': ['UrbanRural']}\n",
      "{'control_value': 0, 'treatment_value': 1, 'test_significance': False, 'evaluate_effect_strength': False, 'confidence_intervals': False, 'target_units': 'att', 'effect_modifiers': ['UrbanRural']}\n",
      "{'control_value': 0, 'treatment_value': 1, 'test_significance': False, 'evaluate_effect_strength': False, 'confidence_intervals': False, 'target_units': 'att', 'effect_modifiers': ['UrbanRural']}\n",
      "{'control_value': 0, 'treatment_value': 1, 'test_significance': False, 'evaluate_effect_strength': False, 'confidence_intervals': False, 'target_units': 'att', 'effect_modifiers': ['UrbanRural']}\n",
      "{'control_value': 0, 'treatment_value': 1, 'test_significance': False, 'evaluate_effect_strength': False, 'confidence_intervals': False, 'target_units': 'att', 'effect_modifiers': ['UrbanRural']}\n",
      "{'control_value': 0, 'treatment_value': 1, 'test_significance': False, 'evaluate_effect_strength': False, 'confidence_intervals': False, 'target_units': 'att', 'effect_modifiers': ['UrbanRural']}\n",
      "{'control_value': 0, 'treatment_value': 1, 'test_significance': False, 'evaluate_effect_strength': False, 'confidence_intervals': False, 'target_units': 'att', 'effect_modifiers': ['UrbanRural']}\n",
      "{'control_value': 0, 'treatment_value': 1, 'test_significance': False, 'evaluate_effect_strength': False, 'confidence_intervals': False, 'target_units': 'att', 'effect_modifiers': ['UrbanRural']}\n",
      "{'control_value': 0, 'treatment_value': 1, 'test_significance': False, 'evaluate_effect_strength': False, 'confidence_intervals': False, 'target_units': 'att', 'effect_modifiers': ['UrbanRural']}\n",
      "{'control_value': 0, 'treatment_value': 1, 'test_significance': False, 'evaluate_effect_strength': False, 'confidence_intervals': False, 'target_units': 'att', 'effect_modifiers': ['UrbanRural']}\n",
      "{'control_value': 0, 'treatment_value': 1, 'test_significance': False, 'evaluate_effect_strength': False, 'confidence_intervals': False, 'target_units': 'att', 'effect_modifiers': ['UrbanRural']}\n",
      "{'control_value': 0, 'treatment_value': 1, 'test_significance': False, 'evaluate_effect_strength': False, 'confidence_intervals': False, 'target_units': 'att', 'effect_modifiers': ['UrbanRural']}\n",
      "{'control_value': 0, 'treatment_value': 1, 'test_significance': False, 'evaluate_effect_strength': False, 'confidence_intervals': False, 'target_units': 'att', 'effect_modifiers': ['UrbanRural']}\n",
      "{'control_value': 0, 'treatment_value': 1, 'test_significance': False, 'evaluate_effect_strength': False, 'confidence_intervals': False, 'target_units': 'att', 'effect_modifiers': ['UrbanRural']}\n",
      "{'control_value': 0, 'treatment_value': 1, 'test_significance': False, 'evaluate_effect_strength': False, 'confidence_intervals': False, 'target_units': 'att', 'effect_modifiers': ['UrbanRural']}\n",
      "{'control_value': 0, 'treatment_value': 1, 'test_significance': False, 'evaluate_effect_strength': False, 'confidence_intervals': False, 'target_units': 'att', 'effect_modifiers': ['UrbanRural']}\n",
      "{'control_value': 0, 'treatment_value': 1, 'test_significance': False, 'evaluate_effect_strength': False, 'confidence_intervals': False, 'target_units': 'att', 'effect_modifiers': ['UrbanRural']}\n",
      "{'control_value': 0, 'treatment_value': 1, 'test_significance': False, 'evaluate_effect_strength': False, 'confidence_intervals': False, 'target_units': 'att', 'effect_modifiers': ['UrbanRural']}\n",
      "{'control_value': 0, 'treatment_value': 1, 'test_significance': False, 'evaluate_effect_strength': False, 'confidence_intervals': False, 'target_units': 'att', 'effect_modifiers': ['UrbanRural']}\n",
      "{'control_value': 0, 'treatment_value': 1, 'test_significance': False, 'evaluate_effect_strength': False, 'confidence_intervals': False, 'target_units': 'att', 'effect_modifiers': ['UrbanRural']}\n",
      "{'control_value': 0, 'treatment_value': 1, 'test_significance': False, 'evaluate_effect_strength': False, 'confidence_intervals': False, 'target_units': 'att', 'effect_modifiers': ['UrbanRural']}\n",
      "{'control_value': 0, 'treatment_value': 1, 'test_significance': False, 'evaluate_effect_strength': False, 'confidence_intervals': False, 'target_units': 'att', 'effect_modifiers': ['UrbanRural']}\n"
     ]
    },
    {
     "name": "stdout",
     "output_type": "stream",
     "text": [
      "{'control_value': 0, 'treatment_value': 1, 'test_significance': False, 'evaluate_effect_strength': False, 'confidence_intervals': False, 'target_units': 'att', 'effect_modifiers': ['UrbanRural']}\n",
      "{'control_value': 0, 'treatment_value': 1, 'test_significance': False, 'evaluate_effect_strength': False, 'confidence_intervals': False, 'target_units': 'att', 'effect_modifiers': ['UrbanRural']}\n",
      "{'control_value': 0, 'treatment_value': 1, 'test_significance': False, 'evaluate_effect_strength': False, 'confidence_intervals': False, 'target_units': 'att', 'effect_modifiers': ['UrbanRural']}\n",
      "{'control_value': 0, 'treatment_value': 1, 'test_significance': False, 'evaluate_effect_strength': False, 'confidence_intervals': False, 'target_units': 'att', 'effect_modifiers': ['UrbanRural']}\n",
      "{'control_value': 0, 'treatment_value': 1, 'test_significance': False, 'evaluate_effect_strength': False, 'confidence_intervals': False, 'target_units': 'att', 'effect_modifiers': ['UrbanRural']}\n",
      "{'control_value': 0, 'treatment_value': 1, 'test_significance': False, 'evaluate_effect_strength': False, 'confidence_intervals': False, 'target_units': 'att', 'effect_modifiers': ['UrbanRural']}\n",
      "{'control_value': 0, 'treatment_value': 1, 'test_significance': False, 'evaluate_effect_strength': False, 'confidence_intervals': False, 'target_units': 'att', 'effect_modifiers': ['UrbanRural']}\n",
      "{'control_value': 0, 'treatment_value': 1, 'test_significance': False, 'evaluate_effect_strength': False, 'confidence_intervals': False, 'target_units': 'att', 'effect_modifiers': ['UrbanRural']}\n",
      "{'control_value': 0, 'treatment_value': 1, 'test_significance': False, 'evaluate_effect_strength': False, 'confidence_intervals': False, 'target_units': 'att', 'effect_modifiers': ['UrbanRural']}\n",
      "{'control_value': 0, 'treatment_value': 1, 'test_significance': False, 'evaluate_effect_strength': False, 'confidence_intervals': False, 'target_units': 'att', 'effect_modifiers': ['UrbanRural']}\n",
      "{'control_value': 0, 'treatment_value': 1, 'test_significance': False, 'evaluate_effect_strength': False, 'confidence_intervals': False, 'target_units': 'att', 'effect_modifiers': ['UrbanRural']}\n",
      "{'control_value': 0, 'treatment_value': 1, 'test_significance': False, 'evaluate_effect_strength': False, 'confidence_intervals': False, 'target_units': 'att', 'effect_modifiers': ['UrbanRural']}\n",
      "{'control_value': 0, 'treatment_value': 1, 'test_significance': False, 'evaluate_effect_strength': False, 'confidence_intervals': False, 'target_units': 'att', 'effect_modifiers': ['UrbanRural']}\n",
      "{'control_value': 0, 'treatment_value': 1, 'test_significance': False, 'evaluate_effect_strength': False, 'confidence_intervals': False, 'target_units': 'att', 'effect_modifiers': ['UrbanRural']}\n",
      "{'control_value': 0, 'treatment_value': 1, 'test_significance': False, 'evaluate_effect_strength': False, 'confidence_intervals': False, 'target_units': 'att', 'effect_modifiers': ['UrbanRural']}\n",
      "{'control_value': 0, 'treatment_value': 1, 'test_significance': False, 'evaluate_effect_strength': False, 'confidence_intervals': False, 'target_units': 'att', 'effect_modifiers': ['UrbanRural']}\n",
      "Refute: Add a random common cause\n",
      "Estimated effect:0.21054064455342553\n",
      "New effect:0.2105421632344192\n",
      "p value:0.96\n",
      "\n"
     ]
    }
   ],
   "source": [
    "res_random=model.refute_estimate(identified_estimand,causal_estimate_att, method_name=\"random_common_cause\", show_progress_bar=True)\n",
    "print(res_random)"
   ]
  },
  {
   "cell_type": "code",
   "execution_count": null,
   "id": "c3d403a1",
   "metadata": {},
   "outputs": [],
   "source": []
  }
 ],
 "metadata": {
  "kernelspec": {
   "display_name": "Python 3 (ipykernel)",
   "language": "python",
   "name": "python3"
  },
  "language_info": {
   "codemirror_mode": {
    "name": "ipython",
    "version": 3
   },
   "file_extension": ".py",
   "mimetype": "text/x-python",
   "name": "python",
   "nbconvert_exporter": "python",
   "pygments_lexer": "ipython3",
   "version": "3.8.8"
  }
 },
 "nbformat": 4,
 "nbformat_minor": 5
}
