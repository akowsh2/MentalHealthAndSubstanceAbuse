{
 "cells": [
  {
   "cell_type": "code",
   "execution_count": 7,
   "id": "17269ed4",
   "metadata": {},
   "outputs": [],
   "source": [
    "import pandas as pd\n",
    "import numpy as np"
   ]
  },
  {
   "cell_type": "code",
   "execution_count": 11,
   "id": "6f2276e7",
   "metadata": {},
   "outputs": [],
   "source": [
    "df = pd.read_csv('./Dataset/NSDUH_2020_Tab.csv')"
   ]
  },
  {
   "cell_type": "code",
   "execution_count": 14,
   "id": "01eb7bb9",
   "metadata": {},
   "outputs": [],
   "source": [
    "df['druguse'] = np.where((df['MRJYRBFR'] == 1) | (df['CIGAGLST'] <= 83) | (df['SMKAGLAST'] <= 75) | (df['CGRAGLST'] <= 84) | (df['ALCAGLST'] <= 97) | (df['COCAGLST'] <= 69) | (df['CRKAGLST'] <= 68) | (df['HERAGLST'] <= 73) | (df['HALLAGLST'] <= 69) | (df['LSDAGLST'] <= 65) | (df['PCPAGLST'] <= 62) | (df['ECSTMOAGL'] <= 65) | (df['INHLAGLST'] <= 66) | (df['METHAGLST'] <= 75)  , 1, 0)"
   ]
  },
  {
   "cell_type": "code",
   "execution_count": 15,
   "id": "9e33af74",
   "metadata": {},
   "outputs": [
    {
     "data": {
      "text/plain": [
       "0        1\n",
       "1        1\n",
       "2        1\n",
       "3        0\n",
       "4        1\n",
       "        ..\n",
       "32888    0\n",
       "32889    0\n",
       "32890    0\n",
       "32891    1\n",
       "32892    1\n",
       "Name: druguse, Length: 32893, dtype: int32"
      ]
     },
     "execution_count": 15,
     "metadata": {},
     "output_type": "execute_result"
    }
   ],
   "source": [
    "df['druguse']"
   ]
  },
  {
   "cell_type": "code",
   "execution_count": 18,
   "id": "2e74d739",
   "metadata": {},
   "outputs": [
    {
     "data": {
      "text/plain": [
       "1    20261\n",
       "0    12632\n",
       "Name: druguse, dtype: int64"
      ]
     },
     "execution_count": 18,
     "metadata": {},
     "output_type": "execute_result"
    }
   ],
   "source": [
    "df['druguse'].value_counts()"
   ]
  },
  {
   "cell_type": "code",
   "execution_count": 19,
   "id": "6a13df48",
   "metadata": {},
   "outputs": [],
   "source": [
    "df.fillna(0, inplace=True)"
   ]
  },
  {
   "cell_type": "code",
   "execution_count": 20,
   "id": "659ab05e",
   "metadata": {},
   "outputs": [],
   "source": [
    "df.to_csv('NSDUH_druguse.csv')"
   ]
  },
  {
   "cell_type": "code",
   "execution_count": null,
   "id": "9e36ed2c",
   "metadata": {},
   "outputs": [],
   "source": []
  }
 ],
 "metadata": {
  "kernelspec": {
   "display_name": "Python 3 (ipykernel)",
   "language": "python",
   "name": "python3"
  },
  "language_info": {
   "codemirror_mode": {
    "name": "ipython",
    "version": 3
   },
   "file_extension": ".py",
   "mimetype": "text/x-python",
   "name": "python",
   "nbconvert_exporter": "python",
   "pygments_lexer": "ipython3",
   "version": "3.8.8"
  }
 },
 "nbformat": 4,
 "nbformat_minor": 5
}
