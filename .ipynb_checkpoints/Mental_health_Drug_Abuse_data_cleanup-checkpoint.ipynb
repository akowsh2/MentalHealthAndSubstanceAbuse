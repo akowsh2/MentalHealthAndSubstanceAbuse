{
 "cells": [
  {
   "cell_type": "code",
   "execution_count": null,
   "id": "55d82742",
   "metadata": {},
   "outputs": [],
   "source": [
    "import pandas as pd\n",
    "import numpy as np"
   ]
  },
  {
   "cell_type": "code",
   "execution_count": null,
   "id": "9b45e3aa",
   "metadata": {},
   "outputs": [],
   "source": [
    "df = pd.read_csv('NSDUH_2020_Tab.csv')"
   ]
  },
  {
   "cell_type": "code",
   "execution_count": null,
   "id": "6f2ea817",
   "metadata": {},
   "outputs": [],
   "source": [
    "print(len(df.columns))"
   ]
  },
  {
   "cell_type": "code",
   "execution_count": null,
   "id": "8cdaff59",
   "metadata": {},
   "outputs": [],
   "source": [
    "drug_related = ['FTNDDNSP', 'ABODALC', 'ABODMRJ', 'ABODCOC', 'ABODHER', 'UDPYHAL', 'UDPYINH', 'UDPYMTH', 'UDPYPNR', 'UDPYTRQ',\n",
    "                  'UDPYSTM', 'UDPYSED', 'CASUPROB2']\n",
    "demographics = ['CATAG6','IRWRKSTAT','IRSEX', 'IRFAMIN3', 'COUTYP4', 'EDUHIGHCAT']\n",
    "mental_health = ['DSTHOP30', 'DSTRST30', 'DSTCHR30', 'DSTEFF30', 'DSTNGD30', 'AMDEYR', 'CAMHPROB']"
   ]
  },
  {
   "cell_type": "code",
   "execution_count": null,
   "id": "27a9bce1",
   "metadata": {},
   "outputs": [],
   "source": [
    "selected_df = df[drug_related+mental_health+demographics]"
   ]
  },
  {
   "cell_type": "code",
   "execution_count": null,
   "id": "da81f887",
   "metadata": {},
   "outputs": [],
   "source": [
    "selected_df.shape"
   ]
  },
  {
   "cell_type": "code",
   "execution_count": null,
   "id": "fda4146a",
   "metadata": {},
   "outputs": [],
   "source": [
    "mental_health_cleanup1 = ['DSTHOP30', 'DSTRST30', 'DSTCHR30', 'DSTEFF30', 'DSTNGD30']\n",
    "mental_health_cleanup2 = ['AMDEYR', 'CAMHPROB']\n",
    "\n",
    "for col in mental_health_cleanup1:\n",
    "    selected_df[col] = np.where((selected_df[col] == 1) | (selected_df[col] == 2), 1, selected_df[col])\n",
    "    selected_df[col] = np.where((selected_df[col] >= 3) & (selected_df[col] <= 5), 0, selected_df[col])\n",
    "    selected_df = selected_df[selected_df[col] < 2]\n",
    "\n",
    "for col in mental_health_cleanup2:\n",
    "    df[col] = np.where(df[col] == 2, 0, df[col])"
   ]
  },
  {
   "cell_type": "code",
   "execution_count": null,
   "id": "2cc9c9ae",
   "metadata": {},
   "outputs": [],
   "source": [
    "selected_df['IRFAMIN3'].value_counts()"
   ]
  },
  {
   "cell_type": "code",
   "execution_count": null,
   "id": "dfbdb5db",
   "metadata": {},
   "outputs": [],
   "source": [
    "# Income Level\n",
    "selected_df['IRFAMIN3'] = np.where((selected_df['IRFAMIN3'] <=3), 0, selected_df['IRFAMIN3'])\n",
    "selected_df['IRFAMIN3'] = np.where((selected_df['IRFAMIN3'] >=4), 1, selected_df['IRFAMIN3'])\n",
    "# Employment status\n",
    "selected_df['IRWRKSTAT'] = np.where((selected_df['IRWRKSTAT'] <=2), 1, selected_df['IRWRKSTAT'])\n",
    "selected_df['IRWRKSTAT'] = np.where((selected_df['IRWRKSTAT'] >=3), 0, selected_df['IRWRKSTAT'])\n",
    "# Urban/Rural\n",
    "selected_df['COUTYP4'] = np.where((selected_df['COUTYP4'] <=2), 1, selected_df['COUTYP4'])\n",
    "selected_df['COUTYP4'] = np.where((selected_df['COUTYP4'] ==3), 0, selected_df['COUTYP4'])\n",
    "# Drug of Alcohol use problem\n",
    "selected_df = selected_df[selected_df['CASUPROB2'].notna()]\n",
    "# Past year major depressive episode\n",
    "selected_df = selected_df[selected_df['AMDEYR'].notna()]\n",
    "# Problem with own mental health\n",
    "selected_df = selected_df[selected_df['CAMHPROB'] <= 2]"
   ]
  },
  {
   "cell_type": "code",
   "execution_count": null,
   "id": "05ef0cd3",
   "metadata": {},
   "outputs": [],
   "source": [
    "selected_df['IRFAMIN3'].value_counts()"
   ]
  },
  {
   "cell_type": "code",
   "execution_count": null,
   "id": "1f90b3b7",
   "metadata": {},
   "outputs": [],
   "source": [
    "selected_df.shape\n",
    "['DSTHOP30', 'DSTRST30', 'DSTCHR30', 'DSTEFF30', 'DSTNGD30', 'AMDEYR', 'CAMHPROB']"
   ]
  },
  {
   "cell_type": "code",
   "execution_count": null,
   "id": "7b3ac01f",
   "metadata": {},
   "outputs": [],
   "source": [
    "selected_df['drugUse'] = np.where((selected_df['FTNDDNSP'] == 1) | (selected_df['ABODALC'] == 1) |\n",
    "                                  (selected_df['ABODMRJ'] == 1) | (selected_df['ABODCOC'] == 1) |\n",
    "                                  (selected_df['ABODHER'] == 1) | (selected_df['ABODHER'] == 1) |\n",
    "                                  (selected_df['UDPYINH'] == 1) | (selected_df['UDPYMTH'] == 1) |\n",
    "                                  (selected_df['UDPYPNR'] == 1) | (selected_df['UDPYTRQ'] == 1) |\n",
    "                                  (selected_df['UDPYSTM'] == 1) | (selected_df['UDPYSED'] == 1) |\n",
    "                                  (selected_df['CASUPROB2'] == 1), 1, 0)"
   ]
  },
  {
   "cell_type": "code",
   "execution_count": null,
   "id": "80b2ccc9",
   "metadata": {},
   "outputs": [],
   "source": [
    "selected_df['drugUse'].value_counts()"
   ]
  },
  {
   "cell_type": "code",
   "execution_count": null,
   "id": "1bbe68f6",
   "metadata": {},
   "outputs": [],
   "source": [
    "selected_df['MentalHealth'] = np.where((selected_df['DSTHOP30'] == 1) | (selected_df['DSTRST30'] == 1) |\n",
    "                                  (selected_df['DSTCHR30'] == 1) | (selected_df['DSTEFF30'] == 1) |\n",
    "                                  (selected_df['DSTNGD30'] == 1) | (selected_df['AMDEYR'] == 1) |\n",
    "                                  (selected_df['CAMHPROB'] == 1) , 1, 0)"
   ]
  },
  {
   "cell_type": "code",
   "execution_count": null,
   "id": "ed5210ff",
   "metadata": {},
   "outputs": [],
   "source": [
    "selected_df['MentalHealth'].value_counts()"
   ]
  },
  {
   "cell_type": "code",
   "execution_count": null,
   "id": "a45ec3c1",
   "metadata": {},
   "outputs": [],
   "source": [
    "Model_df = selected_df[['drugUse', 'MentalHealth', 'CATAG6','IRWRKSTAT','IRSEX', 'IRFAMIN3', 'COUTYP4', 'EDUHIGHCAT']]"
   ]
  },
  {
   "cell_type": "code",
   "execution_count": null,
   "id": "2215bcc6",
   "metadata": {},
   "outputs": [],
   "source": [
    "columnNames = {'drugUse': 'DrugUse', 'MentalHealth': 'MentalHealth', 'CATAG6': 'AgeGroup', 'IRWRKSTAT': 'EmploymentStatus',\n",
    "              'IRSEX': 'Sex', 'IRFAMIN3': 'IncomeLevel', 'COUTYP4': 'UrbanRural', 'EDUHIGHCAT':'EducationLevel'}"
   ]
  },
  {
   "cell_type": "code",
   "execution_count": null,
   "id": "37a7cd09",
   "metadata": {},
   "outputs": [],
   "source": [
    "Model_df.rename(columns=columnNames, inplace=True)"
   ]
  },
  {
   "cell_type": "code",
   "execution_count": null,
   "id": "95353cb4",
   "metadata": {},
   "outputs": [],
   "source": [
    "Model_df.to_csv(\"Updated_Model_Data.csv\", sep=\",\", index = False)\n",
    "selected_df.to_csv(\"Updated_All_NSDUH_Clean_Data.csv\", sep=\",\", index = False)"
   ]
  }
 ],
 "metadata": {
  "kernelspec": {
   "display_name": "Python 3 (ipykernel)",
   "language": "python",
   "name": "python3"
  },
  "language_info": {
   "codemirror_mode": {
    "name": "ipython",
    "version": 3
   },
   "file_extension": ".py",
   "mimetype": "text/x-python",
   "name": "python",
   "nbconvert_exporter": "python",
   "pygments_lexer": "ipython3",
   "version": "3.8.8"
  }
 },
 "nbformat": 4,
 "nbformat_minor": 5
}
