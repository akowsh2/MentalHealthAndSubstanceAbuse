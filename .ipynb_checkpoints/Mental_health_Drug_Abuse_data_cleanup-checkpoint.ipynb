{
 "cells": [
  {
   "cell_type": "code",
   "execution_count": 19,
   "id": "55d82742",
   "metadata": {},
   "outputs": [],
   "source": [
    "import pandas as pd\n",
    "import numpy as np"
   ]
  },
  {
   "cell_type": "code",
   "execution_count": 20,
   "id": "9b45e3aa",
   "metadata": {},
   "outputs": [
    {
     "name": "stderr",
     "output_type": "stream",
     "text": [
      "C:\\Users\\agupt69\\AppData\\Local\\Temp\\ipykernel_224260\\2526213911.py:1: DtypeWarning: Columns (2726) have mixed types. Specify dtype option on import or set low_memory=False.\n",
      "  df = pd.read_csv('C:\\\\Users\\\\agupt69\\\\Downloads\\\\NSDUH_2020_Tab.csv')\n"
     ]
    }
   ],
   "source": [
    "df = pd.read_csv('C:\\\\Users\\\\agupt69\\\\Downloads\\\\NSDUH_2020_Tab.csv')"
   ]
  },
  {
   "cell_type": "code",
   "execution_count": 21,
   "id": "6f2ea817",
   "metadata": {},
   "outputs": [
    {
     "name": "stdout",
     "output_type": "stream",
     "text": [
      "2890\n"
     ]
    }
   ],
   "source": [
    "print(len(df.columns))"
   ]
  },
  {
   "cell_type": "code",
   "execution_count": 22,
   "id": "8cdaff59",
   "metadata": {},
   "outputs": [],
   "source": [
    "drug_related = ['FTNDDNSP', 'ABODALC', 'ABODMRJ', 'ABODCOC', 'ABODHER', 'UDPYHAL', 'UDPYINH', 'UDPYMTH', 'UDPYPNR', 'UDPYTRQ',\n",
    "                  'UDPYSTM', 'UDPYSED', 'CASUPROB2']\n",
    "demographics = ['AGE2','IRWRKSTAT','IRSEX', 'IRFAMIN3', 'COUTYP4', 'EDUHIGHCAT']\n",
    "mental_health = ['DSTHOP30', 'DSTRST30', 'DSTCHR30', 'DSTEFF30', 'DSTNGD30', 'AMDEYR', 'CAMHPROB']"
   ]
  },
  {
   "cell_type": "code",
   "execution_count": 23,
   "id": "27a9bce1",
   "metadata": {},
   "outputs": [],
   "source": [
    "selected_df = df[drug_related+mental_health+demographics]"
   ]
  },
  {
   "cell_type": "code",
   "execution_count": 24,
   "id": "da81f887",
   "metadata": {},
   "outputs": [
    {
     "data": {
      "text/plain": [
       "(32893, 26)"
      ]
     },
     "execution_count": 24,
     "metadata": {},
     "output_type": "execute_result"
    }
   ],
   "source": [
    "selected_df.shape"
   ]
  },
  {
   "cell_type": "code",
   "execution_count": 25,
   "id": "fda4146a",
   "metadata": {},
   "outputs": [
    {
     "name": "stderr",
     "output_type": "stream",
     "text": [
      "C:\\Users\\agupt69\\AppData\\Local\\Temp\\ipykernel_224260\\3722446094.py:5: SettingWithCopyWarning: \n",
      "A value is trying to be set on a copy of a slice from a DataFrame.\n",
      "Try using .loc[row_indexer,col_indexer] = value instead\n",
      "\n",
      "See the caveats in the documentation: https://pandas.pydata.org/pandas-docs/stable/user_guide/indexing.html#returning-a-view-versus-a-copy\n",
      "  selected_df[col] = np.where((selected_df[col] == 1) | (selected_df[col] == 2), 1, selected_df[col])\n",
      "C:\\Users\\agupt69\\AppData\\Local\\Temp\\ipykernel_224260\\3722446094.py:6: SettingWithCopyWarning: \n",
      "A value is trying to be set on a copy of a slice from a DataFrame.\n",
      "Try using .loc[row_indexer,col_indexer] = value instead\n",
      "\n",
      "See the caveats in the documentation: https://pandas.pydata.org/pandas-docs/stable/user_guide/indexing.html#returning-a-view-versus-a-copy\n",
      "  selected_df[col] = np.where((selected_df[col] >= 3) & (selected_df[col] <= 5), 0, selected_df[col])\n"
     ]
    }
   ],
   "source": [
    "mental_health_cleanup1 = ['DSTHOP30', 'DSTRST30', 'DSTCHR30', 'DSTEFF30', 'DSTNGD30']\n",
    "mental_health_cleanup2 = ['AMDEYR', 'CAMHPROB']\n",
    "\n",
    "for col in mental_health_cleanup1:\n",
    "    selected_df[col] = np.where((selected_df[col] == 1) | (selected_df[col] == 2), 1, selected_df[col])\n",
    "    selected_df[col] = np.where((selected_df[col] >= 3) & (selected_df[col] <= 5), 0, selected_df[col])\n",
    "    selected_df = selected_df[selected_df[col] < 2]\n",
    "\n",
    "for col in mental_health_cleanup2:\n",
    "    df[col] = np.where(df[col] == 2, 0, df[col])"
   ]
  },
  {
   "cell_type": "code",
   "execution_count": 26,
   "id": "2cc9c9ae",
   "metadata": {},
   "outputs": [
    {
     "data": {
      "text/plain": [
       "7    11454\n",
       "6     4089\n",
       "5     2287\n",
       "4     2227\n",
       "2     2203\n",
       "3     2028\n",
       "1     1870\n",
       "Name: IRFAMIN3, dtype: int64"
      ]
     },
     "execution_count": 26,
     "metadata": {},
     "output_type": "execute_result"
    }
   ],
   "source": [
    "selected_df['IRFAMIN3'].value_counts()"
   ]
  },
  {
   "cell_type": "code",
   "execution_count": 27,
   "id": "dfbdb5db",
   "metadata": {},
   "outputs": [],
   "source": [
    "# Income Level\n",
    "selected_df['IRFAMIN3'] = np.where((selected_df['IRFAMIN3'] <=3), 0, selected_df['IRFAMIN3'])\n",
    "selected_df['IRFAMIN3'] = np.where((selected_df['IRFAMIN3'] >=4), 1, selected_df['IRFAMIN3'])\n",
    "# Employment status\n",
    "selected_df['IRWRKSTAT'] = np.where((selected_df['IRWRKSTAT'] <=2), 1, selected_df['IRWRKSTAT'])\n",
    "selected_df['IRWRKSTAT'] = np.where((selected_df['IRWRKSTAT'] >=3), 0, selected_df['IRWRKSTAT'])\n",
    "# Urban/Rural\n",
    "selected_df['COUTYP4'] = np.where((selected_df['COUTYP4'] <=2), 1, selected_df['COUTYP4'])\n",
    "selected_df['COUTYP4'] = np.where((selected_df['COUTYP4'] ==3), 0, selected_df['COUTYP4'])\n",
    "# Drug of Alcohol use problem\n",
    "selected_df = selected_df[selected_df['CASUPROB2'].notna()]\n",
    "# Past year major depressive episode\n",
    "selected_df = selected_df[selected_df['AMDEYR'].notna()]\n",
    "# Problem with own mental health\n",
    "selected_df = selected_df[selected_df['CAMHPROB'] <= 2]\n",
    "# Sex\n",
    "selected_df['IRSEX'] = np.where(selected_df['IRSEX'] == 2, 0, 1)\n",
    "# Age\n",
    "selected_df['AGE2'] = np.where(selected_df['AGE2'] >= 16, 0, 1)\n",
    "# Education Status removing individuals < 17 years\n",
    "selected_df = selected_df[selected_df['EDUHIGHCAT'] < 5]\n",
    "# Education Status Binary\n",
    "selected_df['EDUHIGHCAT'] = np.where(selected_df['EDUHIGHCAT'] == 1, 0, 1)"
   ]
  },
  {
   "cell_type": "code",
   "execution_count": 28,
   "id": "05ef0cd3",
   "metadata": {},
   "outputs": [
    {
     "data": {
      "text/plain": [
       "1    19713\n",
       "0     5979\n",
       "Name: IRFAMIN3, dtype: int64"
      ]
     },
     "execution_count": 28,
     "metadata": {},
     "output_type": "execute_result"
    }
   ],
   "source": [
    "selected_df['IRFAMIN3'].value_counts()"
   ]
  },
  {
   "cell_type": "code",
   "execution_count": 29,
   "id": "1f90b3b7",
   "metadata": {},
   "outputs": [
    {
     "data": {
      "text/plain": [
       "['DSTHOP30',\n",
       " 'DSTRST30',\n",
       " 'DSTCHR30',\n",
       " 'DSTEFF30',\n",
       " 'DSTNGD30',\n",
       " 'AMDEYR',\n",
       " 'CAMHPROB']"
      ]
     },
     "execution_count": 29,
     "metadata": {},
     "output_type": "execute_result"
    }
   ],
   "source": [
    "selected_df.shape\n",
    "['DSTHOP30', 'DSTRST30', 'DSTCHR30', 'DSTEFF30', 'DSTNGD30', 'AMDEYR', 'CAMHPROB']"
   ]
  },
  {
   "cell_type": "code",
   "execution_count": 30,
   "id": "7b3ac01f",
   "metadata": {},
   "outputs": [],
   "source": [
    "selected_df['drugUse'] = np.where((selected_df['FTNDDNSP'] == 1) | (selected_df['ABODALC'] == 1) |\n",
    "                                  (selected_df['ABODMRJ'] == 1) | (selected_df['ABODCOC'] == 1) |\n",
    "                                  (selected_df['ABODHER'] == 1) | (selected_df['ABODHER'] == 1) |\n",
    "                                  (selected_df['UDPYINH'] == 1) | (selected_df['UDPYMTH'] == 1) |\n",
    "                                  (selected_df['UDPYPNR'] == 1) | (selected_df['UDPYTRQ'] == 1) |\n",
    "                                  (selected_df['UDPYSTM'] == 1) | (selected_df['UDPYSED'] == 1) |\n",
    "                                  (selected_df['CASUPROB2'] == 1), 1, 0)"
   ]
  },
  {
   "cell_type": "code",
   "execution_count": 31,
   "id": "80b2ccc9",
   "metadata": {},
   "outputs": [
    {
     "data": {
      "text/plain": [
       "0    20317\n",
       "1     5375\n",
       "Name: drugUse, dtype: int64"
      ]
     },
     "execution_count": 31,
     "metadata": {},
     "output_type": "execute_result"
    }
   ],
   "source": [
    "selected_df['drugUse'].value_counts()"
   ]
  },
  {
   "cell_type": "code",
   "execution_count": 32,
   "id": "1bbe68f6",
   "metadata": {},
   "outputs": [],
   "source": [
    "selected_df['MentalHealth'] = np.where((selected_df['DSTHOP30'] == 1) | (selected_df['DSTRST30'] == 1) |\n",
    "                                  (selected_df['DSTCHR30'] == 1) | (selected_df['DSTEFF30'] == 1) |\n",
    "                                  (selected_df['DSTNGD30'] == 1) | (selected_df['AMDEYR'] == 1) |\n",
    "                                  (selected_df['CAMHPROB'] == 1) , 1, 0)"
   ]
  },
  {
   "cell_type": "code",
   "execution_count": 33,
   "id": "ed5210ff",
   "metadata": {},
   "outputs": [
    {
     "data": {
      "text/plain": [
       "0    14148\n",
       "1    11544\n",
       "Name: IRSEX, dtype: int64"
      ]
     },
     "execution_count": 33,
     "metadata": {},
     "output_type": "execute_result"
    }
   ],
   "source": [
    "selected_df['IRSEX'].value_counts()"
   ]
  },
  {
   "cell_type": "code",
   "execution_count": 34,
   "id": "a45ec3c1",
   "metadata": {},
   "outputs": [],
   "source": [
    "Model_df = selected_df[['drugUse', 'MentalHealth', 'AGE2','IRWRKSTAT','IRSEX', 'IRFAMIN3', 'COUTYP4', 'EDUHIGHCAT']]"
   ]
  },
  {
   "cell_type": "code",
   "execution_count": 35,
   "id": "2215bcc6",
   "metadata": {},
   "outputs": [],
   "source": [
    "columnNames = {'drugUse': 'DrugUse', 'MentalHealth': 'MentalHealth', 'AGE2': 'Age', 'IRWRKSTAT': 'EmploymentStatus',\n",
    "              'IRSEX': 'Sex', 'IRFAMIN3': 'IncomeLevel', 'COUTYP4': 'UrbanRural', 'EDUHIGHCAT':'EducationLevel'}"
   ]
  },
  {
   "cell_type": "code",
   "execution_count": 36,
   "id": "37a7cd09",
   "metadata": {},
   "outputs": [
    {
     "name": "stderr",
     "output_type": "stream",
     "text": [
      "C:\\Users\\agupt69\\AppData\\Local\\Temp\\ipykernel_224260\\3583517493.py:1: SettingWithCopyWarning: \n",
      "A value is trying to be set on a copy of a slice from a DataFrame\n",
      "\n",
      "See the caveats in the documentation: https://pandas.pydata.org/pandas-docs/stable/user_guide/indexing.html#returning-a-view-versus-a-copy\n",
      "  Model_df.rename(columns=columnNames, inplace=True)\n"
     ]
    }
   ],
   "source": [
    "Model_df.rename(columns=columnNames, inplace=True)"
   ]
  },
  {
   "cell_type": "code",
   "execution_count": 37,
   "id": "95353cb4",
   "metadata": {},
   "outputs": [],
   "source": [
    "Model_df.to_csv(\"FinalDataSets/Final_Model_Data.csv\", sep=\",\", index = False)\n",
    "selected_df.to_csv(\"FinalDataSets/Final_All_NSDUH_Clean_Data.csv\", sep=\",\", index = False)"
   ]
  }
 ],
 "metadata": {
  "kernelspec": {
   "display_name": "Python 3 (ipykernel)",
   "language": "python",
   "name": "python3"
  },
  "language_info": {
   "codemirror_mode": {
    "name": "ipython",
    "version": 3
   },
   "file_extension": ".py",
   "mimetype": "text/x-python",
   "name": "python",
   "nbconvert_exporter": "python",
   "pygments_lexer": "ipython3",
   "version": "3.8.8"
  }
 },
 "nbformat": 4,
 "nbformat_minor": 5
}
