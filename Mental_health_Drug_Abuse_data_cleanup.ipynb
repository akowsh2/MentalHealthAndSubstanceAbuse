{
 "cells": [
  {
   "cell_type": "code",
   "execution_count": 196,
   "id": "55d82742",
   "metadata": {},
   "outputs": [],
   "source": [
    "import pandas as pd\n",
    "import numpy as np"
   ]
  },
  {
   "cell_type": "code",
   "execution_count": 197,
   "id": "9b45e3aa",
   "metadata": {},
   "outputs": [
    {
     "name": "stderr",
     "output_type": "stream",
     "text": [
      "C:\\Users\\agupt69\\AppData\\Local\\Temp\\ipykernel_289200\\1983804358.py:1: DtypeWarning: Columns (2726) have mixed types. Specify dtype option on import or set low_memory=False.\n",
      "  df = pd.read_csv('NSDUH_2020_Tab.csv')\n"
     ]
    }
   ],
   "source": [
    "df = pd.read_csv('NSDUH_2020_Tab.csv')"
   ]
  },
  {
   "cell_type": "code",
   "execution_count": 198,
   "id": "6f2ea817",
   "metadata": {},
   "outputs": [
    {
     "name": "stdout",
     "output_type": "stream",
     "text": [
      "2890\n"
     ]
    }
   ],
   "source": [
    "print(len(df.columns))"
   ]
  },
  {
   "cell_type": "code",
   "execution_count": 199,
   "id": "8cdaff59",
   "metadata": {},
   "outputs": [],
   "source": [
    "drug_related = ['FTNDDNSP', 'ABODALC', 'ABODMRJ', 'ABODCOC', 'ABODHER', 'UDPYHAL', 'UDPYINH', 'UDPYMTH', 'UDPYPNR', 'UDPYTRQ',\n",
    "                  'UDPYSTM', 'UDPYSED', 'CASUPROB2']\n",
    "demographics = ['CATAG6','IRWRKSTAT','IRSEX', 'IRFAMIN3', 'COUTYP4', 'EDUHIGHCAT']\n",
    "mental_health = ['DSTHOP30', 'DSTRST30', 'DSTCHR30', 'DSTEFF30', 'DSTNGD30', 'AMDEYR', 'CAMHPROB']"
   ]
  },
  {
   "cell_type": "code",
   "execution_count": 200,
   "id": "27a9bce1",
   "metadata": {},
   "outputs": [],
   "source": [
    "selected_df = df[drug_related+mental_health+demographics]"
   ]
  },
  {
   "cell_type": "code",
   "execution_count": 201,
   "id": "da81f887",
   "metadata": {},
   "outputs": [
    {
     "data": {
      "text/plain": [
       "(32893, 26)"
      ]
     },
     "execution_count": 201,
     "metadata": {},
     "output_type": "execute_result"
    }
   ],
   "source": [
    "selected_df.shape"
   ]
  },
  {
   "cell_type": "code",
   "execution_count": 202,
   "id": "fda4146a",
   "metadata": {},
   "outputs": [
    {
     "name": "stderr",
     "output_type": "stream",
     "text": [
      "C:\\Users\\agupt69\\AppData\\Local\\Temp\\ipykernel_289200\\3722446094.py:5: SettingWithCopyWarning: \n",
      "A value is trying to be set on a copy of a slice from a DataFrame.\n",
      "Try using .loc[row_indexer,col_indexer] = value instead\n",
      "\n",
      "See the caveats in the documentation: https://pandas.pydata.org/pandas-docs/stable/user_guide/indexing.html#returning-a-view-versus-a-copy\n",
      "  selected_df[col] = np.where((selected_df[col] == 1) | (selected_df[col] == 2), 1, selected_df[col])\n",
      "C:\\Users\\agupt69\\AppData\\Local\\Temp\\ipykernel_289200\\3722446094.py:6: SettingWithCopyWarning: \n",
      "A value is trying to be set on a copy of a slice from a DataFrame.\n",
      "Try using .loc[row_indexer,col_indexer] = value instead\n",
      "\n",
      "See the caveats in the documentation: https://pandas.pydata.org/pandas-docs/stable/user_guide/indexing.html#returning-a-view-versus-a-copy\n",
      "  selected_df[col] = np.where((selected_df[col] >= 3) & (selected_df[col] <= 5), 0, selected_df[col])\n"
     ]
    }
   ],
   "source": [
    "mental_health_cleanup1 = ['DSTHOP30', 'DSTRST30', 'DSTCHR30', 'DSTEFF30', 'DSTNGD30']\n",
    "mental_health_cleanup2 = ['AMDEYR', 'CAMHPROB']\n",
    "\n",
    "for col in mental_health_cleanup1:\n",
    "    selected_df[col] = np.where((selected_df[col] == 1) | (selected_df[col] == 2), 1, selected_df[col])\n",
    "    selected_df[col] = np.where((selected_df[col] >= 3) & (selected_df[col] <= 5), 0, selected_df[col])\n",
    "    selected_df = selected_df[selected_df[col] < 2]\n",
    "\n",
    "for col in mental_health_cleanup2:\n",
    "    df[col] = np.where(df[col] == 2, 0, df[col])"
   ]
  },
  {
   "cell_type": "code",
   "execution_count": 203,
   "id": "2cc9c9ae",
   "metadata": {},
   "outputs": [
    {
     "data": {
      "text/plain": [
       "7    11454\n",
       "6     4089\n",
       "5     2287\n",
       "4     2227\n",
       "2     2203\n",
       "3     2028\n",
       "1     1870\n",
       "Name: IRFAMIN3, dtype: int64"
      ]
     },
     "execution_count": 203,
     "metadata": {},
     "output_type": "execute_result"
    }
   ],
   "source": [
    "selected_df['IRFAMIN3'].value_counts()"
   ]
  },
  {
   "cell_type": "code",
   "execution_count": 204,
   "id": "dfbdb5db",
   "metadata": {},
   "outputs": [
    {
     "name": "stderr",
     "output_type": "stream",
     "text": [
      "C:\\Users\\agupt69\\AppData\\Local\\Temp\\ipykernel_289200\\3160372955.py:2: SettingWithCopyWarning: \n",
      "A value is trying to be set on a copy of a slice from a DataFrame.\n",
      "Try using .loc[row_indexer,col_indexer] = value instead\n",
      "\n",
      "See the caveats in the documentation: https://pandas.pydata.org/pandas-docs/stable/user_guide/indexing.html#returning-a-view-versus-a-copy\n",
      "  selected_df['IRFAMIN3'] = np.where((selected_df['IRFAMIN3'] <=3), 0, selected_df['IRFAMIN3'])\n",
      "C:\\Users\\agupt69\\AppData\\Local\\Temp\\ipykernel_289200\\3160372955.py:3: SettingWithCopyWarning: \n",
      "A value is trying to be set on a copy of a slice from a DataFrame.\n",
      "Try using .loc[row_indexer,col_indexer] = value instead\n",
      "\n",
      "See the caveats in the documentation: https://pandas.pydata.org/pandas-docs/stable/user_guide/indexing.html#returning-a-view-versus-a-copy\n",
      "  selected_df['IRFAMIN3'] = np.where((selected_df['IRFAMIN3'] >=4), 1, selected_df['IRFAMIN3'])\n",
      "C:\\Users\\agupt69\\AppData\\Local\\Temp\\ipykernel_289200\\3160372955.py:5: SettingWithCopyWarning: \n",
      "A value is trying to be set on a copy of a slice from a DataFrame.\n",
      "Try using .loc[row_indexer,col_indexer] = value instead\n",
      "\n",
      "See the caveats in the documentation: https://pandas.pydata.org/pandas-docs/stable/user_guide/indexing.html#returning-a-view-versus-a-copy\n",
      "  selected_df['IRWRKSTAT'] = np.where((selected_df['IRWRKSTAT'] <=2), 1, selected_df['IRWRKSTAT'])\n",
      "C:\\Users\\agupt69\\AppData\\Local\\Temp\\ipykernel_289200\\3160372955.py:6: SettingWithCopyWarning: \n",
      "A value is trying to be set on a copy of a slice from a DataFrame.\n",
      "Try using .loc[row_indexer,col_indexer] = value instead\n",
      "\n",
      "See the caveats in the documentation: https://pandas.pydata.org/pandas-docs/stable/user_guide/indexing.html#returning-a-view-versus-a-copy\n",
      "  selected_df['IRWRKSTAT'] = np.where((selected_df['IRWRKSTAT'] >=3), 0, selected_df['IRWRKSTAT'])\n",
      "C:\\Users\\agupt69\\AppData\\Local\\Temp\\ipykernel_289200\\3160372955.py:8: SettingWithCopyWarning: \n",
      "A value is trying to be set on a copy of a slice from a DataFrame.\n",
      "Try using .loc[row_indexer,col_indexer] = value instead\n",
      "\n",
      "See the caveats in the documentation: https://pandas.pydata.org/pandas-docs/stable/user_guide/indexing.html#returning-a-view-versus-a-copy\n",
      "  selected_df['COUTYP4'] = np.where((selected_df['COUTYP4'] <=2), 1, selected_df['COUTYP4'])\n",
      "C:\\Users\\agupt69\\AppData\\Local\\Temp\\ipykernel_289200\\3160372955.py:9: SettingWithCopyWarning: \n",
      "A value is trying to be set on a copy of a slice from a DataFrame.\n",
      "Try using .loc[row_indexer,col_indexer] = value instead\n",
      "\n",
      "See the caveats in the documentation: https://pandas.pydata.org/pandas-docs/stable/user_guide/indexing.html#returning-a-view-versus-a-copy\n",
      "  selected_df['COUTYP4'] = np.where((selected_df['COUTYP4'] ==3), 0, selected_df['COUTYP4'])\n"
     ]
    }
   ],
   "source": [
    "# Income Level\n",
    "selected_df['IRFAMIN3'] = np.where((selected_df['IRFAMIN3'] <=3), 0, selected_df['IRFAMIN3'])\n",
    "selected_df['IRFAMIN3'] = np.where((selected_df['IRFAMIN3'] >=4), 1, selected_df['IRFAMIN3'])\n",
    "# Employment status\n",
    "selected_df['IRWRKSTAT'] = np.where((selected_df['IRWRKSTAT'] <=2), 1, selected_df['IRWRKSTAT'])\n",
    "selected_df['IRWRKSTAT'] = np.where((selected_df['IRWRKSTAT'] >=3), 0, selected_df['IRWRKSTAT'])\n",
    "# Urban/Rural\n",
    "selected_df['COUTYP4'] = np.where((selected_df['COUTYP4'] <=2), 1, selected_df['COUTYP4'])\n",
    "selected_df['COUTYP4'] = np.where((selected_df['COUTYP4'] ==3), 0, selected_df['COUTYP4'])\n",
    "# Drug of Alcohol use problem\n",
    "selected_df = selected_df[selected_df['CASUPROB2'].notna()]\n",
    "# Past year major depressive episode\n",
    "selected_df = selected_df[selected_df['AMDEYR'].notna()]\n",
    "# Problem with own mental health\n",
    "selected_df = selected_df[selected_df['CAMHPROB'] <= 2]"
   ]
  },
  {
   "cell_type": "code",
   "execution_count": 205,
   "id": "05ef0cd3",
   "metadata": {},
   "outputs": [
    {
     "data": {
      "text/plain": [
       "1    19713\n",
       "0     5979\n",
       "Name: IRFAMIN3, dtype: int64"
      ]
     },
     "execution_count": 205,
     "metadata": {},
     "output_type": "execute_result"
    }
   ],
   "source": [
    "selected_df['IRFAMIN3'].value_counts()"
   ]
  },
  {
   "cell_type": "code",
   "execution_count": 206,
   "id": "1f90b3b7",
   "metadata": {},
   "outputs": [
    {
     "data": {
      "text/plain": [
       "['DSTHOP30',\n",
       " 'DSTRST30',\n",
       " 'DSTCHR30',\n",
       " 'DSTEFF30',\n",
       " 'DSTNGD30',\n",
       " 'AMDEYR',\n",
       " 'CAMHPROB']"
      ]
     },
     "execution_count": 206,
     "metadata": {},
     "output_type": "execute_result"
    }
   ],
   "source": [
    "selected_df.shape\n",
    "['DSTHOP30', 'DSTRST30', 'DSTCHR30', 'DSTEFF30', 'DSTNGD30', 'AMDEYR', 'CAMHPROB']"
   ]
  },
  {
   "cell_type": "code",
   "execution_count": 207,
   "id": "7b3ac01f",
   "metadata": {},
   "outputs": [],
   "source": [
    "selected_df['drugUse'] = np.where((selected_df['FTNDDNSP'] == 1) | (selected_df['ABODALC'] == 1) |\n",
    "                                  (selected_df['ABODMRJ'] == 1) | (selected_df['ABODCOC'] == 1) |\n",
    "                                  (selected_df['ABODHER'] == 1) | (selected_df['ABODHER'] == 1) |\n",
    "                                  (selected_df['UDPYINH'] == 1) | (selected_df['UDPYMTH'] == 1) |\n",
    "                                  (selected_df['UDPYPNR'] == 1) | (selected_df['UDPYTRQ'] == 1) |\n",
    "                                  (selected_df['UDPYSTM'] == 1) | (selected_df['UDPYSED'] == 1) |\n",
    "                                  (selected_df['CASUPROB2'] == 1), 1, 0)"
   ]
  },
  {
   "cell_type": "code",
   "execution_count": 208,
   "id": "80b2ccc9",
   "metadata": {},
   "outputs": [
    {
     "data": {
      "text/plain": [
       "0    20317\n",
       "1     5375\n",
       "Name: drugUse, dtype: int64"
      ]
     },
     "execution_count": 208,
     "metadata": {},
     "output_type": "execute_result"
    }
   ],
   "source": [
    "selected_df['drugUse'].value_counts()"
   ]
  },
  {
   "cell_type": "code",
   "execution_count": 209,
   "id": "1bbe68f6",
   "metadata": {},
   "outputs": [],
   "source": [
    "selected_df['MentalHealth'] = np.where((selected_df['DSTHOP30'] == 1) | (selected_df['DSTRST30'] == 1) |\n",
    "                                  (selected_df['DSTCHR30'] == 1) | (selected_df['DSTEFF30'] == 1) |\n",
    "                                  (selected_df['DSTNGD30'] == 1) | (selected_df['AMDEYR'] == 1) |\n",
    "                                  (selected_df['CAMHPROB'] == 1) , 1, 0)"
   ]
  },
  {
   "cell_type": "code",
   "execution_count": 210,
   "id": "ed5210ff",
   "metadata": {},
   "outputs": [
    {
     "data": {
      "text/plain": [
       "0    16077\n",
       "1     9615\n",
       "Name: MentalHealth, dtype: int64"
      ]
     },
     "execution_count": 210,
     "metadata": {},
     "output_type": "execute_result"
    }
   ],
   "source": [
    "selected_df['MentalHealth'].value_counts()"
   ]
  },
  {
   "cell_type": "code",
   "execution_count": 211,
   "id": "a45ec3c1",
   "metadata": {},
   "outputs": [],
   "source": [
    "Model_df = selected_df[['drugUse', 'MentalHealth', 'CATAG6','IRWRKSTAT','IRSEX', 'IRFAMIN3', 'COUTYP4', 'EDUHIGHCAT']]"
   ]
  },
  {
   "cell_type": "code",
   "execution_count": 212,
   "id": "2215bcc6",
   "metadata": {},
   "outputs": [],
   "source": [
    "columnNames = {'drugUse': 'DrugUse', 'MentalHealth': 'MentalHealth', 'CATAG6': 'AgeGroup', 'IRWRKSTAT': 'EmploymentStatus',\n",
    "              'IRSEX': 'Sex', 'IRFAMIN3': 'IncomeLevel', 'COUTYP4': 'UrbanRural', 'EDUHIGHCAT':'EducationLevel'}"
   ]
  },
  {
   "cell_type": "code",
   "execution_count": 213,
   "id": "37a7cd09",
   "metadata": {},
   "outputs": [
    {
     "name": "stderr",
     "output_type": "stream",
     "text": [
      "C:\\Users\\agupt69\\AppData\\Local\\Temp\\ipykernel_289200\\3583517493.py:1: SettingWithCopyWarning: \n",
      "A value is trying to be set on a copy of a slice from a DataFrame\n",
      "\n",
      "See the caveats in the documentation: https://pandas.pydata.org/pandas-docs/stable/user_guide/indexing.html#returning-a-view-versus-a-copy\n",
      "  Model_df.rename(columns=columnNames, inplace=True)\n"
     ]
    }
   ],
   "source": [
    "Model_df.rename(columns=columnNames, inplace=True)"
   ]
  },
  {
   "cell_type": "code",
   "execution_count": 214,
   "id": "95353cb4",
   "metadata": {},
   "outputs": [
    {
     "ename": "TypeError",
     "evalue": "to_csv() got an unexpected keyword argument 'index_col'",
     "output_type": "error",
     "traceback": [
      "\u001b[1;31m---------------------------------------------------------------------------\u001b[0m",
      "\u001b[1;31mTypeError\u001b[0m                                 Traceback (most recent call last)",
      "Input \u001b[1;32mIn [214]\u001b[0m, in \u001b[0;36m<cell line: 1>\u001b[1;34m()\u001b[0m\n\u001b[1;32m----> 1\u001b[0m \u001b[43mModel_df\u001b[49m\u001b[38;5;241;43m.\u001b[39;49m\u001b[43mto_csv\u001b[49m\u001b[43m(\u001b[49m\u001b[38;5;124;43m\"\u001b[39;49m\u001b[38;5;124;43mUpdated_Model_Data.csv\u001b[39;49m\u001b[38;5;124;43m\"\u001b[39;49m\u001b[43m,\u001b[49m\u001b[43m \u001b[49m\u001b[43msep\u001b[49m\u001b[38;5;241;43m=\u001b[39;49m\u001b[38;5;124;43m\"\u001b[39;49m\u001b[38;5;124;43m,\u001b[39;49m\u001b[38;5;124;43m\"\u001b[39;49m\u001b[43m,\u001b[49m\u001b[43m \u001b[49m\u001b[43mindex_col\u001b[49m\u001b[43m \u001b[49m\u001b[38;5;241;43m=\u001b[39;49m\u001b[43m \u001b[49m\u001b[38;5;28;43;01mFalse\u001b[39;49;00m\u001b[43m)\u001b[49m\n\u001b[0;32m      2\u001b[0m selected_df\u001b[38;5;241m.\u001b[39mto_csv(\u001b[38;5;124m\"\u001b[39m\u001b[38;5;124mUpdated_All_NSDUH_Clean_Data.csv\u001b[39m\u001b[38;5;124m\"\u001b[39m, sep\u001b[38;5;241m=\u001b[39m\u001b[38;5;124m\"\u001b[39m\u001b[38;5;124m,\u001b[39m\u001b[38;5;124m\"\u001b[39m, index_col \u001b[38;5;241m=\u001b[39m \u001b[38;5;28;01mFalse\u001b[39;00m)\n",
      "\u001b[1;31mTypeError\u001b[0m: to_csv() got an unexpected keyword argument 'index_col'"
     ]
    }
   ],
   "source": [
    "Model_df.to_csv(\"Updated_Model_Data.csv\", sep=\",\", index_col = False)\n",
    "selected_df.to_csv(\"Updated_All_NSDUH_Clean_Data.csv\", sep=\",\", index_col = False)"
   ]
  }
 ],
 "metadata": {
  "kernelspec": {
   "display_name": "Python 3 (ipykernel)",
   "language": "python",
   "name": "python3"
  },
  "language_info": {
   "codemirror_mode": {
    "name": "ipython",
    "version": 3
   },
   "file_extension": ".py",
   "mimetype": "text/x-python",
   "name": "python",
   "nbconvert_exporter": "python",
   "pygments_lexer": "ipython3",
   "version": "3.8.8"
  }
 },
 "nbformat": 4,
 "nbformat_minor": 5
}
